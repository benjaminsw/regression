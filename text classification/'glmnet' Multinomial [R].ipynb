{
 "cells": [
  {
   "cell_type": "markdown",
   "metadata": {},
   "source": [
    "# 'glmnet' Multinomial"
   ]
  },
  {
   "cell_type": "markdown",
   "metadata": {},
   "source": [
    "## import library"
   ]
  },
  {
   "cell_type": "code",
   "execution_count": 5,
   "metadata": {
    "collapsed": false
   },
   "outputs": [],
   "source": [
    "options(jupyter.plot_mimetypes = 'image/png')\n",
    "library('glmnet')\n",
    "library('tm')\n",
    "library('NLP')\n",
    "library('RTextTools')"
   ]
  },
  {
   "cell_type": "markdown",
   "metadata": {},
   "source": [
    "## read data in"
   ]
  },
  {
   "cell_type": "code",
   "execution_count": 6,
   "metadata": {
    "collapsed": false
   },
   "outputs": [
    {
     "data": {
      "text/html": [
       "<table>\n",
       "<thead><tr><th scope=col>id</th><th scope=col>tweet_text</th><th scope=col>Label</th></tr></thead>\n",
       "<tbody>\n",
       "\t<tr><td> 2                                                                                                                                                   </td><td>@NFLfantasy @Akbar_Gbaja Damn right, Akbar.                                                                                                          </td><td>neutral                                                                                                                                              </td></tr>\n",
       "\t<tr><td> 3                                                                                                                                                   </td><td>@NFLfantasy @Akbar_Gbaja I've got backup _â€°Ð³Ñžâ€°Ð«__                                                                                             </td><td>neutral                                                                                                                                              </td></tr>\n",
       "\t<tr><td> 5                                                                                                                                                   </td><td>\"No one is going to replace the production of Odell Beckham Jr. He's let a lot of fantasy owners down.\"-@Akbar_Gbaja https://t.co/8Nd1Knzunq         </td><td>neutral                                                                                                                                              </td></tr>\n",
       "\t<tr><td> 7                                                                                                                                                   </td><td>@Sheikh__Akbar It's actually PERFECT for you man! Always on the phone_â€°Ð³Ñžâ€°Ð«_Ðœ__â€°Ð³Ñžâ€°Ð«_Ðœ__â€°Ð³Ñžâ€°Ð«_Ðœ_                             </td><td>neutral                                                                                                                                              </td></tr>\n",
       "\t<tr><td>10                                                                                                                                                   </td><td>Was Trump right? Officers say pockets of Muslims celebrated 9/11 https://t.co/NSVY7rDwcu via @MailOnline                                             </td><td>neutral                                                                                                                                              </td></tr>\n",
       "\t<tr><td>12                                                                                                                                                   </td><td>Female Killer In Las Vegas Shouted ÐƒÐšâ€°Ð«Ð£â€°Ð«_Allahu AkbarÐƒÐšâ€°Ð«Ð£ÐœÑ† As She Ran Over 40 Innocent People Last Night https://t.co/wjYGYzRCmD</td><td>neutral                                                                                                                                              </td></tr>\n",
       "</tbody>\n",
       "</table>\n"
      ],
      "text/latex": [
       "\\begin{tabular}{r|lll}\n",
       " id & tweet\\_text & Label\\\\\n",
       "\\hline\n",
       "\t  2                                                                                                                                                      & @NFLfantasy @Akbar\\_Gbaja Damn right, Akbar.                                                                                                           & neutral                                                                                                                                                \\\\\n",
       "\t  3                                                                                                                                                            & @NFLfantasy @Akbar\\_Gbaja I've got backup \\_â€°Ð³Ñžâ€°Ð«\\_\\_                                                                                              & neutral                                                                                                                                                      \\\\\n",
       "\t  5                                                                                                                                                      & \"No one is going to replace the production of Odell Beckham Jr. He's let a lot of fantasy owners down.\"-@Akbar\\_Gbaja https://t.co/8Nd1Knzunq          & neutral                                                                                                                                                \\\\\n",
       "\t  7                                                                                                                                                                          & @Sheikh\\_\\_Akbar It's actually PERFECT for you man! Always on the phone\\_â€°Ð³Ñžâ€°Ð«\\_Ðœ\\_\\_â€°Ð³Ñžâ€°Ð«\\_Ðœ\\_\\_â€°Ð³Ñžâ€°Ð«\\_Ðœ\\_                              & neutral                                                                                                                                                                    \\\\\n",
       "\t 10                                                                                                                                                    & Was Trump right? Officers say pockets of Muslims celebrated 9/11 https://t.co/NSVY7rDwcu via @MailOnline                                              & neutral                                                                                                                                              \\\\\n",
       "\t 12                                                                                                                                                      & Female Killer In Las Vegas Shouted ÐƒÐšâ€°Ð«Ð£â€°Ð«\\_Allahu AkbarÐƒÐšâ€°Ð«Ð£ÐœÑ† As She Ran Over 40 Innocent People Last Night https://t.co/wjYGYzRCmD & neutral                                                                                                                                                \\\\\n",
       "\\end{tabular}\n"
      ],
      "text/plain": [
       "  id\n",
       "1  2\n",
       "2  3\n",
       "3  5\n",
       "4  7\n",
       "5 10\n",
       "6 12\n",
       "  tweet_text                                                                                                                                           \n",
       "1 @NFLfantasy @Akbar_Gbaja Damn right, Akbar.                                                                                                          \n",
       "2 @NFLfantasy @Akbar_Gbaja I've got backup _â°Ð³Ñâ°Ð«__                                                                                             \n",
       "3 \"No one is going to replace the production of Odell Beckham Jr. He's let a lot of fantasy owners down.\"-@Akbar_Gbaja https://t.co/8Nd1Knzunq         \n",
       "4 @Sheikh__Akbar It's actually PERFECT for you man! Always on the phone_â°Ð³Ñâ°Ð«_Ð__â°Ð³Ñâ°Ð«_Ð__â°Ð³Ñâ°Ð«_Ð_                             \n",
       "5 Was Trump right? Officers say pockets of Muslims celebrated 9/11 https://t.co/NSVY7rDwcu via @MailOnline                                             \n",
       "6 Female Killer In Las Vegas Shouted ÐÐâ°Ð«Ð£â°Ð«_Allahu AkbarÐÐâ°Ð«Ð£ÐÑ As She Ran Over 40 Innocent People Last Night https://t.co/wjYGYzRCmD\n",
       "  Label  \n",
       "1 neutral\n",
       "2 neutral\n",
       "3 neutral\n",
       "4 neutral\n",
       "5 neutral\n",
       "6 neutral"
      ]
     },
     "metadata": {},
     "output_type": "display_data"
    }
   ],
   "source": [
    "df <- read.csv(\"Twitter-hate_speech-labeled_data - Sheet1.csv\")\n",
    "test <- read.csv(\"Twitter-hate_speech-test_unlabeled - Sheet1.csv\")\n",
    "head(df)"
   ]
  },
  {
   "cell_type": "markdown",
   "metadata": {},
   "source": [
    "## create the function to perform transformation"
   ]
  },
  {
   "cell_type": "code",
   "execution_count": 7,
   "metadata": {
    "collapsed": true
   },
   "outputs": [],
   "source": [
    "cleanCorpus <- function(corpus){\n",
    "    corpus <- gsub(\"@\\\\w+\", \"DENOITNEM\", corpus)\n",
    "    corpus <- gsub(\"\\\\d+\", \"REBMUN\", corpus)\n",
    "    corpus <- gsub(\"https?://(.*)+\", \"ETISBEW\", corpus)\n",
    "    #corpus <- gsub(\"[^[:alnum:][:space:]']\", \"\", corpus)\n",
    "    corpus <- gsub(\"[[:punct:]]\", \"\", corpus)\n",
    "    corpus <- iconv(corpus, \"latin1\", \"ASCII\", sub=\"\")\n",
    "    return(corpus)\n",
    "}"
   ]
  },
  {
   "cell_type": "markdown",
   "metadata": {},
   "source": [
    "## merge df and test tweet text and create corpus"
   ]
  },
  {
   "cell_type": "code",
   "execution_count": 8,
   "metadata": {
    "collapsed": false
   },
   "outputs": [
    {
     "data": {
      "text/html": [
       "<table>\n",
       "<thead><tr><th scope=col>id</th><th scope=col>tweet_text</th><th scope=col>Label</th></tr></thead>\n",
       "<tbody>\n",
       "\t<tr><td> 2                                                                                                                                                   </td><td>@NFLfantasy @Akbar_Gbaja Damn right, Akbar.                                                                                                          </td><td>neutral                                                                                                                                              </td></tr>\n",
       "\t<tr><td> 3                                                                                                                                                   </td><td>@NFLfantasy @Akbar_Gbaja I've got backup _â€°Ð³Ñžâ€°Ð«__                                                                                             </td><td>neutral                                                                                                                                              </td></tr>\n",
       "\t<tr><td> 5                                                                                                                                                   </td><td>\"No one is going to replace the production of Odell Beckham Jr. He's let a lot of fantasy owners down.\"-@Akbar_Gbaja https://t.co/8Nd1Knzunq         </td><td>neutral                                                                                                                                              </td></tr>\n",
       "\t<tr><td> 7                                                                                                                                                   </td><td>@Sheikh__Akbar It's actually PERFECT for you man! Always on the phone_â€°Ð³Ñžâ€°Ð«_Ðœ__â€°Ð³Ñžâ€°Ð«_Ðœ__â€°Ð³Ñžâ€°Ð«_Ðœ_                             </td><td>neutral                                                                                                                                              </td></tr>\n",
       "\t<tr><td>10                                                                                                                                                   </td><td>Was Trump right? Officers say pockets of Muslims celebrated 9/11 https://t.co/NSVY7rDwcu via @MailOnline                                             </td><td>neutral                                                                                                                                              </td></tr>\n",
       "\t<tr><td>12                                                                                                                                                   </td><td>Female Killer In Las Vegas Shouted ÐƒÐšâ€°Ð«Ð£â€°Ð«_Allahu AkbarÐƒÐšâ€°Ð«Ð£ÐœÑ† As She Ran Over 40 Innocent People Last Night https://t.co/wjYGYzRCmD</td><td>neutral                                                                                                                                              </td></tr>\n",
       "</tbody>\n",
       "</table>\n"
      ],
      "text/latex": [
       "\\begin{tabular}{r|lll}\n",
       " id & tweet\\_text & Label\\\\\n",
       "\\hline\n",
       "\t  2                                                                                                                                                      & @NFLfantasy @Akbar\\_Gbaja Damn right, Akbar.                                                                                                           & neutral                                                                                                                                                \\\\\n",
       "\t  3                                                                                                                                                            & @NFLfantasy @Akbar\\_Gbaja I've got backup \\_â€°Ð³Ñžâ€°Ð«\\_\\_                                                                                              & neutral                                                                                                                                                      \\\\\n",
       "\t  5                                                                                                                                                      & \"No one is going to replace the production of Odell Beckham Jr. He's let a lot of fantasy owners down.\"-@Akbar\\_Gbaja https://t.co/8Nd1Knzunq          & neutral                                                                                                                                                \\\\\n",
       "\t  7                                                                                                                                                                          & @Sheikh\\_\\_Akbar It's actually PERFECT for you man! Always on the phone\\_â€°Ð³Ñžâ€°Ð«\\_Ðœ\\_\\_â€°Ð³Ñžâ€°Ð«\\_Ðœ\\_\\_â€°Ð³Ñžâ€°Ð«\\_Ðœ\\_                              & neutral                                                                                                                                                                    \\\\\n",
       "\t 10                                                                                                                                                    & Was Trump right? Officers say pockets of Muslims celebrated 9/11 https://t.co/NSVY7rDwcu via @MailOnline                                              & neutral                                                                                                                                              \\\\\n",
       "\t 12                                                                                                                                                      & Female Killer In Las Vegas Shouted ÐƒÐšâ€°Ð«Ð£â€°Ð«\\_Allahu AkbarÐƒÐšâ€°Ð«Ð£ÐœÑ† As She Ran Over 40 Innocent People Last Night https://t.co/wjYGYzRCmD & neutral                                                                                                                                                \\\\\n",
       "\\end{tabular}\n"
      ],
      "text/plain": [
       "  id\n",
       "1  2\n",
       "2  3\n",
       "3  5\n",
       "4  7\n",
       "5 10\n",
       "6 12\n",
       "  tweet_text                                                                                                                                           \n",
       "1 @NFLfantasy @Akbar_Gbaja Damn right, Akbar.                                                                                                          \n",
       "2 @NFLfantasy @Akbar_Gbaja I've got backup _â°Ð³Ñâ°Ð«__                                                                                             \n",
       "3 \"No one is going to replace the production of Odell Beckham Jr. He's let a lot of fantasy owners down.\"-@Akbar_Gbaja https://t.co/8Nd1Knzunq         \n",
       "4 @Sheikh__Akbar It's actually PERFECT for you man! Always on the phone_â°Ð³Ñâ°Ð«_Ð__â°Ð³Ñâ°Ð«_Ð__â°Ð³Ñâ°Ð«_Ð_                             \n",
       "5 Was Trump right? Officers say pockets of Muslims celebrated 9/11 https://t.co/NSVY7rDwcu via @MailOnline                                             \n",
       "6 Female Killer In Las Vegas Shouted ÐÐâ°Ð«Ð£â°Ð«_Allahu AkbarÐÐâ°Ð«Ð£ÐÑ As She Ran Over 40 Innocent People Last Night https://t.co/wjYGYzRCmD\n",
       "  Label  \n",
       "1 neutral\n",
       "2 neutral\n",
       "3 neutral\n",
       "4 neutral\n",
       "5 neutral\n",
       "6 neutral"
      ]
     },
     "metadata": {},
     "output_type": "display_data"
    }
   ],
   "source": [
    "data <- rbind(df, test)\n",
    "head(data)"
   ]
  },
  {
   "cell_type": "code",
   "execution_count": 9,
   "metadata": {
    "collapsed": false
   },
   "outputs": [
    {
     "data": {
      "text/html": [
       "<table>\n",
       "<thead><tr><th></th><th scope=col>id</th><th scope=col>tweet_text</th><th scope=col>Label</th></tr></thead>\n",
       "<tbody>\n",
       "\t<tr><th scope=row>14437</th><td>14409                                                                                                                                                     </td><td>Biggest coon ever https://t.co/kGeoDpY8rP                                                                                                                 </td><td>NA                                                                                                                                                        </td></tr>\n",
       "\t<tr><th scope=row>14438</th><td>14413                                                                                                                                                     </td><td>I can't deal with a slow internet connection. Just can't... #firstworldproblems                                                                           </td><td>NA                                                                                                                                                        </td></tr>\n",
       "\t<tr><th scope=row>14439</th><td>14422                                                                                                                                                     </td><td>Jet Stream the Maine Coon riding out last nightÐœ_Ðœ_ÐµÐ˜s storm with Dad. #mainecoon #cannonbeachtÐœ_Ðœ__ https://t.co/yZibE7JrYR https://t.co/lI6nmLQ0sh</td><td>NA                                                                                                                                                        </td></tr>\n",
       "\t<tr><th scope=row>14440</th><td>14436                                                                                                                                                     </td><td>@AryanTimsina Aryan, what is the version of Fifa?                                                                                                         </td><td>NA                                                                                                                                                        </td></tr>\n",
       "\t<tr><th scope=row>14441</th><td>14438                                                                                                                                                     </td><td>I'm sorry. Did I offend your white supremacist, Aryan Nation, neo-Nazi, best fascist friends somehow?\n",
       " @GaltsGultch https://t.co/Zi3TzR5Vwo              </td><td>NA                                                                                                                                                        </td></tr>\n",
       "\t<tr><th scope=row>14442</th><td>14441                                                                                                                                                     </td><td>@Iamshivachari Happy birthday bro _ÐœÂ«ÐœÐ _\n",
       " Have an happy year ahead _ÐœÂ«_ÐµÐƒ.._ÐœÂ«___ÐœÂ«_ÐƒÐš_ÐœÂ«_â€°Ð«__ÐœÂ«_â€°Ð«_                             </td><td>NA                                                                                                                                                        </td></tr>\n",
       "</tbody>\n",
       "</table>\n"
      ],
      "text/latex": [
       "\\begin{tabular}{r|lll}\n",
       "  & id & tweet\\_text & Label\\\\\n",
       "\\hline\n",
       "\t14437 & 14409                                                                                                                                                      & Biggest coon ever https://t.co/kGeoDpY8rP                                                                                                                  & NA                                                                                                                                                        \\\\\n",
       "\t14438 & 14413                                                                                                                                                        & I can't deal with a slow internet connection. Just can't... \\#firstworldproblems                                                                            & NA                                                                                                                                                          \\\\\n",
       "\t14439 & 14422                                                                                                                                                                    & Jet Stream the Maine Coon riding out last nightÐœ\\_Ðœ\\_ÐµÐ˜s storm with Dad. \\#mainecoon \\#cannonbeachtÐœ\\_Ðœ\\_\\_ https://t.co/yZibE7JrYR https://t.co/lI6nmLQ0sh & NA                                                                                                                                                                      \\\\\n",
       "\t14440 & 14436                                                                                                                                                      & @AryanTimsina Aryan, what is the version of Fifa?                                                                                                          & NA                                                                                                                                                        \\\\\n",
       "\t14441 & 14438                                                                                                                                                      & I'm sorry. Did I offend your white supremacist, Aryan Nation, neo-Nazi, best fascist friends somehow?\n",
       " @GaltsGultch https://t.co/Zi3TzR5Vwo               & NA                                                                                                                                                        \\\\\n",
       "\t14442 & 14441                                                                                                                                                                                    & @Iamshivachari Happy birthday bro \\_ÐœÂ«ÐœÐ \\_\n",
       " Have an happy year ahead \\_ÐœÂ«\\_ÐµÐƒ..\\_ÐœÂ«\\_\\_\\_ÐœÂ«\\_ÐƒÐš\\_ÐœÂ«\\_â€°Ð«\\_\\_ÐœÂ«\\_â€°Ð«\\_                              & NA                                                                                                                                                                                      \\\\\n",
       "\\end{tabular}\n"
      ],
      "text/plain": [
       "      id   \n",
       "14437 14409\n",
       "14438 14413\n",
       "14439 14422\n",
       "14440 14436\n",
       "14441 14438\n",
       "14442 14441\n",
       "      tweet_text                                                                                                                                                \n",
       "14437 Biggest coon ever https://t.co/kGeoDpY8rP                                                                                                                 \n",
       "14438 I can't deal with a slow internet connection. Just can't... #firstworldproblems                                                                           \n",
       "14439 Jet Stream the Maine Coon riding out last nightÐ_Ð_ÐµÐs storm with Dad. #mainecoon #cannonbeachtÐ_Ð__ https://t.co/yZibE7JrYR https://t.co/lI6nmLQ0sh\n",
       "14440 @AryanTimsina Aryan, what is the version of Fifa?                                                                                                         \n",
       "14441 I'm sorry. Did I offend your white supremacist, Aryan Nation, neo-Nazi, best fascist friends somehow?\\n @GaltsGultch https://t.co/Zi3TzR5Vwo              \n",
       "14442 @Iamshivachari Happy birthday bro _ÐÂ«ÐÐ _\\n Have an happy year ahead _ÐÂ«_ÐµÐ.._ÐÂ«___ÐÂ«_ÐÐ_ÐÂ«_â°Ð«__ÐÂ«_â°Ð«_                             \n",
       "      Label\n",
       "14437 NA   \n",
       "14438 NA   \n",
       "14439 NA   \n",
       "14440 NA   \n",
       "14441 NA   \n",
       "14442 NA   "
      ]
     },
     "metadata": {},
     "output_type": "display_data"
    }
   ],
   "source": [
    "tail(data)"
   ]
  },
  {
   "cell_type": "code",
   "execution_count": 6,
   "metadata": {
    "collapsed": false
   },
   "outputs": [],
   "source": [
    "# build a corpus, and specify the source to be character vectors\n",
    "allCorpus <- Corpus(VectorSource(data$tweet_text))\n",
    "# convert to lower case\n",
    "allCorpus <- tm_map(allCorpus, content_transformer(tolower), lazy=TRUE)\n",
    "# clean corpus\n",
    "allCorpuss <- tm_map(allCorpus, content_transformer(cleanCorpus), lazy=TRUE)\n",
    "# remove stop words\n",
    "allCorpus <- tm_map(allCorpus, removeWords, stopwords(kind = \"english\"), lazy=TRUE)"
   ]
  },
  {
   "cell_type": "markdown",
   "metadata": {},
   "source": [
    "## create document matrix"
   ]
  },
  {
   "cell_type": "code",
   "execution_count": null,
   "metadata": {
    "collapsed": false
   },
   "outputs": [],
   "source": [
    "trainmatrix <- t(TermDocumentMatrix(allCorpus))\n",
    "corpusmatrix <- as.matrix(trainmatrix)\n",
    "nrow(corpusmatrix)"
   ]
  },
  {
   "cell_type": "markdown",
   "metadata": {},
   "source": [
    "## train 'glmnet' Multinomial"
   ]
  },
  {
   "cell_type": "code",
   "execution_count": null,
   "metadata": {
    "collapsed": false
   },
   "outputs": [],
   "source": [
    "multifit <- cv.glmnet(corpusmatrix[1:nrow(df), ], as.factor(df$Label), family=\"multinomial\", type.multinomial = \"grouped\", parallel = TRUE)"
   ]
  },
  {
   "cell_type": "markdown",
   "metadata": {
    "collapsed": false
   },
   "source": [
    "## plot fit"
   ]
  },
  {
   "cell_type": "code",
   "execution_count": null,
   "metadata": {
    "collapsed": false
   },
   "outputs": [],
   "source": [
    "plot(multifit)"
   ]
  },
  {
   "cell_type": "markdown",
   "metadata": {
    "collapsed": true
   },
   "source": [
    "## predict classes"
   ]
  },
  {
   "cell_type": "code",
   "execution_count": null,
   "metadata": {
    "collapsed": false
   },
   "outputs": [],
   "source": [
    "pfit <- predict(multifit, corpusMatrix[(nrow(df)+1):nrow(data),] , s=\"lambda.min\", type=\"class\")\n",
    "write.csv(pfit, \"glm1.csv\")"
   ]
  },
  {
   "cell_type": "markdown",
   "metadata": {
    "collapsed": true
   },
   "source": [
    "## glm with 'RTextTools' transformation"
   ]
  },
  {
   "cell_type": "code",
   "execution_count": 10,
   "metadata": {
    "collapsed": false
   },
   "outputs": [],
   "source": [
    "# prep data\n",
    "corpus <- create_matrix(data$tweet_text, language = \"english\", removeStopwords = TRUE, \n",
    "    removeNumbers = TRUE, stemWords = FALSE, tm::weightTfIdf)\n",
    "corpusmatrix2 <- as.matrix(corpus)"
   ]
  },
  {
   "cell_type": "code",
   "execution_count": 11,
   "metadata": {
    "collapsed": false
   },
   "outputs": [
    {
     "data": {
      "text/html": [
       "14442"
      ],
      "text/latex": [
       "14442"
      ],
      "text/markdown": [
       "14442"
      ],
      "text/plain": [
       "[1] 14442"
      ]
     },
     "metadata": {},
     "output_type": "display_data"
    }
   ],
   "source": [
    "nrow(corpusmatrix2)"
   ]
  },
  {
   "cell_type": "code",
   "execution_count": 16,
   "metadata": {
    "collapsed": false
   },
   "outputs": [],
   "source": [
    "train_ind <- sample(seq_len(nrow(df)), size = floor(0.75 * nrow(df)))\n",
    "\n",
    "trainmatrix <- corpusmatrix2[train_ind, ]\n",
    "trainlabel <- as.factor(df$Label[train_ind])\n",
    "validmatrix <- corpusmatrix2[-train_ind, ]\n",
    "validlabel <- as.factor(df$Label[-train_ind])"
   ]
  },
  {
   "cell_type": "code",
   "execution_count": 68,
   "metadata": {
    "collapsed": false
   },
   "outputs": [
    {
     "name": "stderr",
     "output_type": "stream",
     "text": [
      "Warning message in eval(expr, envir, enclos):\n",
      "\"Reached total allocation of 12190Mb: see help(memory.size)\"Warning message in eval(expr, envir, enclos):\n",
      "\"Reached total allocation of 12190Mb: see help(memory.size)\""
     ]
    },
    {
     "name": "stdout",
     "output_type": "stream",
     "text": [
      "[1] 2855\n",
      "[1] 2855\n"
     ]
    }
   ],
   "source": [
    "newmatrix <- corpusmatrix2[1:nrow(df),]\n",
    "validmatrix <- newmatrix[-train_ind, ]\n",
    "validlabel <- as.factor(df$Label[-train_ind])\n",
    "print(nrow(validmatrix))\n",
    "print(length(validlabel))"
   ]
  },
  {
   "cell_type": "markdown",
   "metadata": {},
   "source": [
    "## train 'glmnet' Multinomial"
   ]
  },
  {
   "cell_type": "code",
   "execution_count": 20,
   "metadata": {
    "collapsed": false
   },
   "outputs": [
    {
     "name": "stderr",
     "output_type": "stream",
     "text": [
      "Warning message:\n",
      "\"executing %dopar% sequentially: no parallel backend registered\"Warning message in array(fit$ca[seq(nx * lmu * nc)], c(nx, nc, lmu)):\n",
      "\"Reached total allocation of 12190Mb: see help(memory.size)\"Warning message in array(fit$ca[seq(nx * lmu * nc)], c(nx, nc, lmu)):\n",
      "\"Reached total allocation of 12190Mb: see help(memory.size)\"Warning message in lognet(x, is.sparse, ix, jx, y, weights, offset, alpha, nobs, :\n",
      "\"Reached total allocation of 12190Mb: see help(memory.size)\"Warning message in lognet(x, is.sparse, ix, jx, y, weights, offset, alpha, nobs, :\n",
      "\"Reached total allocation of 12190Mb: see help(memory.size)\"Warning message in lognet(x, is.sparse, ix, jx, y, weights, offset, alpha, nobs, :\n",
      "\"Reached total allocation of 12190Mb: see help(memory.size)\"Warning message in lognet(x, is.sparse, ix, jx, y, weights, offset, alpha, nobs, :\n",
      "\"Reached total allocation of 12190Mb: see help(memory.size)\"Warning message in lognet(x, is.sparse, ix, jx, y, weights, offset, alpha, nobs, :\n",
      "\"Reached total allocation of 12190Mb: see help(memory.size)\"Warning message in lognet(x, is.sparse, ix, jx, y, weights, offset, alpha, nobs, :\n",
      "\"Reached total allocation of 12190Mb: see help(memory.size)\"Warning message in lognet(x, is.sparse, ix, jx, y, weights, offset, alpha, nobs, :\n",
      "\"Reached total allocation of 12190Mb: see help(memory.size)\"Warning message in lognet(x, is.sparse, ix, jx, y, weights, offset, alpha, nobs, :\n",
      "\"Reached total allocation of 12190Mb: see help(memory.size)\"Warning message in lognet(x, is.sparse, ix, jx, y, weights, offset, alpha, nobs, :\n",
      "\"Reached total allocation of 12190Mb: see help(memory.size)\"Warning message in lognet(x, is.sparse, ix, jx, y, weights, offset, alpha, nobs, :\n",
      "\"Reached total allocation of 12190Mb: see help(memory.size)\"Warning message in lognet(x, is.sparse, ix, jx, y, weights, offset, alpha, nobs, :\n",
      "\"Reached total allocation of 12190Mb: see help(memory.size)\"Warning message in lognet(x, is.sparse, ix, jx, y, weights, offset, alpha, nobs, :\n",
      "\"Reached total allocation of 12190Mb: see help(memory.size)\"Warning message in lognet(x, is.sparse, ix, jx, y, weights, offset, alpha, nobs, :\n",
      "\"Reached total allocation of 12190Mb: see help(memory.size)\"Warning message in lognet(x, is.sparse, ix, jx, y, weights, offset, alpha, nobs, :\n",
      "\"Reached total allocation of 12190Mb: see help(memory.size)\"Warning message in lognet(x, is.sparse, ix, jx, y, weights, offset, alpha, nobs, :\n",
      "\"Reached total allocation of 12190Mb: see help(memory.size)\"Warning message in lognet(x, is.sparse, ix, jx, y, weights, offset, alpha, nobs, :\n",
      "\"Reached total allocation of 12190Mb: see help(memory.size)\"Warning message in lognet(x, is.sparse, ix, jx, y, weights, offset, alpha, nobs, :\n",
      "\"Reached total allocation of 12190Mb: see help(memory.size)\"Warning message in lognet(x, is.sparse, ix, jx, y, weights, offset, alpha, nobs, :\n",
      "\"Reached total allocation of 12190Mb: see help(memory.size)\""
     ]
    }
   ],
   "source": [
    "multifit2 <- cv.glmnet(trainmatrix, trainlabel, family=\"multinomial\", type.multinomial = \"grouped\", parallel = TRUE)"
   ]
  },
  {
   "cell_type": "markdown",
   "metadata": {},
   "source": [
    "## validate model"
   ]
  },
  {
   "cell_type": "code",
   "execution_count": 69,
   "metadata": {
    "collapsed": false
   },
   "outputs": [
    {
     "name": "stderr",
     "output_type": "stream",
     "text": [
      "Warning message in cbind2(1, newx) %*% (nbeta[[i]]):\n",
      "\"Reached total allocation of 12190Mb: see help(memory.size)\"Warning message in cbind2(1, newx) %*% (nbeta[[i]]):\n",
      "\"Reached total allocation of 12190Mb: see help(memory.size)\""
     ]
    }
   ],
   "source": [
    "pvalid2 <- predict(multifit2, validmatrix , s=\"lambda.min\", type=\"class\")"
   ]
  },
  {
   "cell_type": "markdown",
   "metadata": {},
   "source": [
    "## confusion metrix"
   ]
  },
  {
   "cell_type": "code",
   "execution_count": 73,
   "metadata": {
    "collapsed": false
   },
   "outputs": [
    {
     "data": {
      "text/plain": [
       "                    V2\n",
       "V1                   hate speech neutral offensive language\n",
       "  hate speech                183       6                147\n",
       "  neutral                     66    1390                148\n",
       "  offensive language         218      30                667"
      ]
     },
     "metadata": {},
     "output_type": "display_data"
    }
   ],
   "source": [
    "table(as.data.frame(cbind(as.character(pvalid2), as.character(validlabel))))"
   ]
  },
  {
   "cell_type": "markdown",
   "metadata": {},
   "source": [
    "## plot fit"
   ]
  },
  {
   "cell_type": "code",
   "execution_count": 74,
   "metadata": {
    "collapsed": false
   },
   "outputs": [
    {
     "data": {
      "image/png": "[encoded data removed]"
     },
     "metadata": {},
     "output_type": "display_data"
    }
   ],
   "source": [
    "plot(multifit2)"
   ]
  },
  {
   "cell_type": "markdown",
   "metadata": {},
   "source": [
    "## predict classes"
   ]
  },
  {
   "cell_type": "code",
   "execution_count": 78,
   "metadata": {
    "collapsed": false
   },
   "outputs": [
    {
     "name": "stderr",
     "output_type": "stream",
     "text": [
      "Warning message in cbind2(1, newx):\n",
      "\"Reached total allocation of 12190Mb: see help(memory.size)\"Warning message in cbind2(1, newx):\n",
      "\"Reached total allocation of 12190Mb: see help(memory.size)\"Warning message in cbind2(1, newx):\n",
      "\"Reached total allocation of 12190Mb: see help(memory.size)\"Warning message in cbind2(1, newx):\n",
      "\"Reached total allocation of 12190Mb: see help(memory.size)\""
     ]
    }
   ],
   "source": [
    "pfit2 <- predict(multifit2, corpusmatrix2[(nrow(df)+1):nrow(corpusmatrix2),] , s=\"lambda.min\", type=\"class\")\n",
    "write.csv(pfit2, \"glm3.csv\")"
   ]
  },
  {
   "cell_type": "code",
   "execution_count": null,
   "metadata": {
    "collapsed": false
   },
   "outputs": [],
   "source": []
  },
  {
   "cell_type": "code",
   "execution_count": null,
   "metadata": {
    "collapsed": false
   },
   "outputs": [],
   "source": []
  },
  {
   "cell_type": "code",
   "execution_count": null,
   "metadata": {
    "collapsed": true
   },
   "outputs": [],
   "source": []
  }
 ],
 "metadata": {
  "kernelspec": {
   "display_name": "R",
   "language": "R",
   "name": "ir"
  },
  "language_info": {
   "codemirror_mode": "r",
   "file_extension": ".r",
   "mimetype": "text/x-r-source",
   "name": "R",
   "pygments_lexer": "r",
   "version": "3.3.1"
  }
 },
 "nbformat": 4,
 "nbformat_minor": 0
}
