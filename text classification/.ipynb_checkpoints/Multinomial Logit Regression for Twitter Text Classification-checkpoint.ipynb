{
 "cells": [
  {
   "cell_type": "markdown",
   "metadata": {},
   "source": [
    "# Multinomial Logit Regression for Twitter Text Classification"
   ]
  },
  {
   "cell_type": "markdown",
   "metadata": {},
   "source": [
    "In this notebook, we will apply logistic regression to classify twitter text into three tones which are \"neutral\", \"offensive language\" and \"hate speech\".\n",
    "\n",
    "First of all, let's import library that we will use in this note book."
   ]
  },
  {
   "cell_type": "markdown",
   "metadata": {},
   "source": [
    "## import library"
   ]
  },
  {
   "cell_type": "code",
   "execution_count": 1,
   "metadata": {
    "collapsed": false
   },
   "outputs": [
    {
     "name": "stderr",
     "output_type": "stream",
     "text": [
      "Loading required package: Matrix\n",
      "Loading required package: foreach\n",
      "Loaded glmnet 2.0-5\n",
      "\n",
      "Loading required package: SparseM\n",
      "\n",
      "Attaching package: 'SparseM'\n",
      "\n",
      "The following object is masked from 'package:base':\n",
      "\n",
      "    backsolve\n",
      "\n"
     ]
    }
   ],
   "source": [
    "options(warn=-1) #turn off warning\n",
    "options(jupyter.plot_mimetypes = 'image/png')\n",
    "library('glmnet')\n",
    "library('RTextTools')"
   ]
  },
  {
   "cell_type": "markdown",
   "metadata": {},
   "source": [
    "## read data in"
   ]
  },
  {
   "cell_type": "markdown",
   "metadata": {},
   "source": [
    "data that will be used in this notebook are comprised of training data and test data. \n",
    "\n",
    "Now, let's read data in from CSV file."
   ]
  },
  {
   "cell_type": "code",
   "execution_count": 2,
   "metadata": {
    "collapsed": false
   },
   "outputs": [
    {
     "data": {
      "text/html": [
       "<table>\n",
       "<thead><tr><th scope=col>id</th><th scope=col>tweet_text</th><th scope=col>Label</th></tr></thead>\n",
       "<tbody>\n",
       "\t<tr><td> 2                                                                                                                                                   </td><td>@NFLfantasy @Akbar_Gbaja Damn right, Akbar.                                                                                                          </td><td>neutral                                                                                                                                              </td></tr>\n",
       "\t<tr><td> 3                                                                                                                                                   </td><td>@NFLfantasy @Akbar_Gbaja I've got backup _â€°Ð³Ñžâ€°Ð«__                                                                                             </td><td>neutral                                                                                                                                              </td></tr>\n",
       "\t<tr><td> 5                                                                                                                                                   </td><td>\"No one is going to replace the production of Odell Beckham Jr. He's let a lot of fantasy owners down.\"-@Akbar_Gbaja https://t.co/8Nd1Knzunq         </td><td>neutral                                                                                                                                              </td></tr>\n",
       "\t<tr><td> 7                                                                                                                                                   </td><td>@Sheikh__Akbar It's actually PERFECT for you man! Always on the phone_â€°Ð³Ñžâ€°Ð«_Ðœ__â€°Ð³Ñžâ€°Ð«_Ðœ__â€°Ð³Ñžâ€°Ð«_Ðœ_                             </td><td>neutral                                                                                                                                              </td></tr>\n",
       "\t<tr><td>10                                                                                                                                                   </td><td>Was Trump right? Officers say pockets of Muslims celebrated 9/11 https://t.co/NSVY7rDwcu via @MailOnline                                             </td><td>neutral                                                                                                                                              </td></tr>\n",
       "\t<tr><td>12                                                                                                                                                   </td><td>Female Killer In Las Vegas Shouted ÐƒÐšâ€°Ð«Ð£â€°Ð«_Allahu AkbarÐƒÐšâ€°Ð«Ð£ÐœÑ† As She Ran Over 40 Innocent People Last Night https://t.co/wjYGYzRCmD</td><td>neutral                                                                                                                                              </td></tr>\n",
       "</tbody>\n",
       "</table>\n"
      ],
      "text/latex": [
       "\\begin{tabular}{r|lll}\n",
       " id & tweet\\_text & Label\\\\\n",
       "\\hline\n",
       "\t  2                                                                                                                                                      & @NFLfantasy @Akbar\\_Gbaja Damn right, Akbar.                                                                                                           & neutral                                                                                                                                                \\\\\n",
       "\t  3                                                                                                                                                            & @NFLfantasy @Akbar\\_Gbaja I've got backup \\_â€°Ð³Ñžâ€°Ð«\\_\\_                                                                                              & neutral                                                                                                                                                      \\\\\n",
       "\t  5                                                                                                                                                      & \"No one is going to replace the production of Odell Beckham Jr. He's let a lot of fantasy owners down.\"-@Akbar\\_Gbaja https://t.co/8Nd1Knzunq          & neutral                                                                                                                                                \\\\\n",
       "\t  7                                                                                                                                                                          & @Sheikh\\_\\_Akbar It's actually PERFECT for you man! Always on the phone\\_â€°Ð³Ñžâ€°Ð«\\_Ðœ\\_\\_â€°Ð³Ñžâ€°Ð«\\_Ðœ\\_\\_â€°Ð³Ñžâ€°Ð«\\_Ðœ\\_                              & neutral                                                                                                                                                                    \\\\\n",
       "\t 10                                                                                                                                                    & Was Trump right? Officers say pockets of Muslims celebrated 9/11 https://t.co/NSVY7rDwcu via @MailOnline                                              & neutral                                                                                                                                              \\\\\n",
       "\t 12                                                                                                                                                      & Female Killer In Las Vegas Shouted ÐƒÐšâ€°Ð«Ð£â€°Ð«\\_Allahu AkbarÐƒÐšâ€°Ð«Ð£ÐœÑ† As She Ran Over 40 Innocent People Last Night https://t.co/wjYGYzRCmD & neutral                                                                                                                                                \\\\\n",
       "\\end{tabular}\n"
      ],
      "text/plain": [
       "  id\n",
       "1  2\n",
       "2  3\n",
       "3  5\n",
       "4  7\n",
       "5 10\n",
       "6 12\n",
       "  tweet_text                                                                                                                                           \n",
       "1 @NFLfantasy @Akbar_Gbaja Damn right, Akbar.                                                                                                          \n",
       "2 @NFLfantasy @Akbar_Gbaja I've got backup _â°Ð³Ñâ°Ð«__                                                                                             \n",
       "3 \"No one is going to replace the production of Odell Beckham Jr. He's let a lot of fantasy owners down.\"-@Akbar_Gbaja https://t.co/8Nd1Knzunq         \n",
       "4 @Sheikh__Akbar It's actually PERFECT for you man! Always on the phone_â°Ð³Ñâ°Ð«_Ð__â°Ð³Ñâ°Ð«_Ð__â°Ð³Ñâ°Ð«_Ð_                             \n",
       "5 Was Trump right? Officers say pockets of Muslims celebrated 9/11 https://t.co/NSVY7rDwcu via @MailOnline                                             \n",
       "6 Female Killer In Las Vegas Shouted ÐÐâ°Ð«Ð£â°Ð«_Allahu AkbarÐÐâ°Ð«Ð£ÐÑ As She Ran Over 40 Innocent People Last Night https://t.co/wjYGYzRCmD\n",
       "  Label  \n",
       "1 neutral\n",
       "2 neutral\n",
       "3 neutral\n",
       "4 neutral\n",
       "5 neutral\n",
       "6 neutral"
      ]
     },
     "metadata": {},
     "output_type": "display_data"
    }
   ],
   "source": [
    "df <- read.csv(\"Twitter-hate_speech-labeled_data - Sheet1.csv\")\n",
    "test <- read.csv(\"Twitter-hate_speech-test_unlabeled - Sheet1.csv\")\n",
    "head(df)"
   ]
  },
  {
   "cell_type": "markdown",
   "metadata": {},
   "source": [
    "Now, let's inspect classes that text is classified into by using unique command in R which will tell us how many and what classes there are in the training set."
   ]
  },
  {
   "cell_type": "code",
   "execution_count": 3,
   "metadata": {
    "collapsed": false
   },
   "outputs": [
    {
     "data": {
      "text/html": [
       "<ol class=list-inline>\n",
       "\t<li>neutral</li>\n",
       "\t<li>offensive language</li>\n",
       "\t<li>hate speech</li>\n",
       "</ol>\n"
      ],
      "text/latex": [
       "\\begin{enumerate*}\n",
       "\\item neutral\n",
       "\\item offensive language\n",
       "\\item hate speech\n",
       "\\end{enumerate*}\n"
      ],
      "text/markdown": [
       "1. neutral\n",
       "2. offensive language\n",
       "3. hate speech\n",
       "\n",
       "\n"
      ],
      "text/plain": [
       "[1] neutral            offensive language hate speech       \n",
       "Levels: hate speech neutral offensive language"
      ]
     },
     "metadata": {},
     "output_type": "display_data"
    }
   ],
   "source": [
    "unique(df$Label) #this will print out 3 classes that we will have to classify later."
   ]
  },
  {
   "cell_type": "markdown",
   "metadata": {},
   "source": [
    "Let's print out the number of training dataset and test dataset."
   ]
  },
  {
   "cell_type": "code",
   "execution_count": 4,
   "metadata": {
    "collapsed": false
   },
   "outputs": [
    {
     "name": "stdout",
     "output_type": "stream",
     "text": [
      "[1] 11418\n",
      "[1] 3024\n"
     ]
    }
   ],
   "source": [
    "print(nrow(df))\n",
    "print(nrow(test))"
   ]
  },
  {
   "cell_type": "markdown",
   "metadata": {},
   "source": [
    "## merge df and test tweet text and create corpus"
   ]
  },
  {
   "cell_type": "markdown",
   "metadata": {},
   "source": [
    "Now, we will bind train data and test data in order to apply corpus transformation latter on."
   ]
  },
  {
   "cell_type": "code",
   "execution_count": 5,
   "metadata": {
    "collapsed": false
   },
   "outputs": [
    {
     "name": "stdout",
     "output_type": "stream",
     "text": [
      "[1] 14442\n"
     ]
    }
   ],
   "source": [
    "data <- rbind(df, test)\n",
    "print(nrow(data))"
   ]
  },
  {
   "cell_type": "markdown",
   "metadata": {},
   "source": [
    "## use 'RTextTools' for transformation to corpus and remove stop words"
   ]
  },
  {
   "cell_type": "markdown",
   "metadata": {},
   "source": [
    "Now we will make the word corpus and also remove stopwords as well as number from our corpus."
   ]
  },
  {
   "cell_type": "code",
   "execution_count": 6,
   "metadata": {
    "collapsed": false
   },
   "outputs": [],
   "source": [
    "# prepare data\n",
    "corpus <- create_matrix(data$tweet_text, language = \"english\", removeStopwords = TRUE, \n",
    "    removeNumbers = TRUE, stemWords = FALSE, tm::weightTfIdf)\n",
    "corpusmatrix <- as.matrix(corpus)"
   ]
  },
  {
   "cell_type": "markdown",
   "metadata": {},
   "source": [
    "Now, we will randomly split training data into training set and validation set to use to validate our model."
   ]
  },
  {
   "cell_type": "code",
   "execution_count": 7,
   "metadata": {
    "collapsed": false
   },
   "outputs": [],
   "source": [
    "train_ind <- sample(seq_len(nrow(df)), size = floor(0.75 * nrow(df)))\n",
    "dfmatrix <- corpusmatrix[1:nrow(df),]\n",
    "trainmatrix <- dfmatrix[train_ind, ]\n",
    "trainlabel <- as.factor(df$Label[train_ind])\n",
    "validmatrix <- dfmatrix[-train_ind, ]\n",
    "validlabel <- as.factor(df$Label[-train_ind])"
   ]
  },
  {
   "cell_type": "markdown",
   "metadata": {},
   "source": [
    "## train 'glmnet' multinomial"
   ]
  },
  {
   "cell_type": "markdown",
   "metadata": {},
   "source": [
    "Now, we train logit regression with losso regularisation. In the meanwhile, this will also perform variable elimination from the model as well."
   ]
  },
  {
   "cell_type": "code",
   "execution_count": 8,
   "metadata": {
    "collapsed": true
   },
   "outputs": [],
   "source": [
    "multifit2 <- cv.glmnet(trainmatrix, trainlabel, family=\"multinomial\", type.multinomial = \"grouped\", parallel = TRUE)"
   ]
  },
  {
   "cell_type": "markdown",
   "metadata": {},
   "source": [
    "## plot fit"
   ]
  },
  {
   "cell_type": "markdown",
   "metadata": {},
   "source": [
    "The following plot visualise the value of log lambda that gives the least error."
   ]
  },
  {
   "cell_type": "code",
   "execution_count": 9,
   "metadata": {
    "collapsed": false
   },
   "outputs": [
    {
     "data": {
      "image/png": "[encoded data removed]"
     },
     "metadata": {},
     "output_type": "display_data"
    }
   ],
   "source": [
    "plot(multifit2)"
   ]
  },
  {
   "cell_type": "markdown",
   "metadata": {},
   "source": [
    "## validate model"
   ]
  },
  {
   "cell_type": "markdown",
   "metadata": {},
   "source": [
    "We will now validate the performance of our model by using validation set that we put aside earlier."
   ]
  },
  {
   "cell_type": "code",
   "execution_count": 10,
   "metadata": {
    "collapsed": true
   },
   "outputs": [],
   "source": [
    "pvalid2 <- predict(multifit2, validmatrix , s=\"lambda.min\", type=\"class\")"
   ]
  },
  {
   "cell_type": "markdown",
   "metadata": {},
   "source": [
    "## confusion metrix"
   ]
  },
  {
   "cell_type": "markdown",
   "metadata": {},
   "source": [
    "After we apply our model to the validation set, now let's see how well it can classify our validation set. This can be done using command table which will create \"confusion metrix\" for us automatically."
   ]
  },
  {
   "cell_type": "code",
   "execution_count": 13,
   "metadata": {
    "collapsed": false
   },
   "outputs": [
    {
     "data": {
      "text/plain": [
       "                    actual\n",
       "predicted            hate speech neutral offensive language\n",
       "  hate speech                169       0                112\n",
       "  neutral                     63    1357                151\n",
       "  offensive language         278      40                685"
      ]
     },
     "metadata": {},
     "output_type": "display_data"
    }
   ],
   "source": [
    "predicted_df <- as.data.frame(cbind(as.character(pvalid2), as.character(validlabel)))\n",
    "colnames(predicted_df) <- c(\"predicted\",\"actual\")\n",
    "table(predicted_df)"
   ]
  },
  {
   "cell_type": "markdown",
   "metadata": {},
   "source": [
    "## predict classes"
   ]
  },
  {
   "cell_type": "markdown",
   "metadata": {},
   "source": [
    "After all the hustle, let's apply the model that we build to our test set. Then, let's inspect first 10 elements in our test set."
   ]
  },
  {
   "cell_type": "code",
   "execution_count": 20,
   "metadata": {
    "collapsed": false
   },
   "outputs": [
    {
     "data": {
      "text/html": [
       "<table>\n",
       "<thead><tr><th scope=col>id</th><th scope=col>tweet_text</th><th scope=col>Label</th></tr></thead>\n",
       "<tbody>\n",
       "\t<tr><td> 1                                                                                                                       </td><td>@NFLfantasy @Akbar_Gbaja the last thing he cares about is fantasy owners                                                 </td><td>neutral                                                                                                                  </td></tr>\n",
       "\t<tr><td> 4                                                                                                                       </td><td>@NFLfantasy @Akbar_Gbaja He also let his team down. It's a must win game.                                                </td><td>neutral                                                                                                                  </td></tr>\n",
       "\t<tr><td> 6                                                                                                                       </td><td>Man Shouting 'Allahu Akbar' Drives Into Crowd https://t.co/pznvkur9cT                                                    </td><td>neutral                                                                                                                  </td></tr>\n",
       "\t<tr><td> 8                                                                                                                       </td><td>Nan _â€°Ð³Ñžâ€°Ð«Ñžâ€°Ð«Ñž (@ Akbar's in Leeds, West Yorkshire) https://t.co/9HbyQorVmO https://t.co/Gv6AXUSoiA          </td><td>neutral                                                                                                                  </td></tr>\n",
       "\t<tr><td> 9                                                                                                                       </td><td>VIDEOS: Immigrant Somali Muslim Woman Yelling Allahu Akbar Intentionally Ran Over 40 People On... https://t.co/DYlGZKOFjw</td><td>neutral                                                                                                                  </td></tr>\n",
       "\t<tr><td>11                                                                                                                       </td><td>Was Trump right? Officers say pockets of Muslims celebrated 9/11 https://t.co/ZQLM9XYtKN via @MailOnline                 </td><td>neutral                                                                                                                  </td></tr>\n",
       "</tbody>\n",
       "</table>\n"
      ],
      "text/latex": [
       "\\begin{tabular}{r|lll}\n",
       " id & tweet\\_text & Label\\\\\n",
       "\\hline\n",
       "\t  1                                                                                                                          & @NFLfantasy @Akbar\\_Gbaja the last thing he cares about is fantasy owners                                                  & neutral                                                                                                                    \\\\\n",
       "\t  4                                                                                                                          & @NFLfantasy @Akbar\\_Gbaja He also let his team down. It's a must win game.                                                 & neutral                                                                                                                    \\\\\n",
       "\t  6                                                                                                                        & Man Shouting 'Allahu Akbar' Drives Into Crowd https://t.co/pznvkur9cT                                                     & neutral                                                                                                                  \\\\\n",
       "\t  8                                                                                                                          & Nan \\_â€°Ð³Ñžâ€°Ð«Ñžâ€°Ð«Ñž (@ Akbar's in Leeds, West Yorkshire) https://t.co/9HbyQorVmO https://t.co/Gv6AXUSoiA           & neutral                                                                                                                    \\\\\n",
       "\t  9                                                                                                                        & VIDEOS: Immigrant Somali Muslim Woman Yelling Allahu Akbar Intentionally Ran Over 40 People On... https://t.co/DYlGZKOFjw & neutral                                                                                                                  \\\\\n",
       "\t 11                                                                                                                        & Was Trump right? Officers say pockets of Muslims celebrated 9/11 https://t.co/ZQLM9XYtKN via @MailOnline                  & neutral                                                                                                                  \\\\\n",
       "\\end{tabular}\n"
      ],
      "text/plain": [
       "  id\n",
       "1  1\n",
       "2  4\n",
       "3  6\n",
       "4  8\n",
       "5  9\n",
       "6 11\n",
       "  tweet_text                                                                                                               \n",
       "1 @NFLfantasy @Akbar_Gbaja the last thing he cares about is fantasy owners                                                 \n",
       "2 @NFLfantasy @Akbar_Gbaja He also let his team down. It's a must win game.                                                \n",
       "3 Man Shouting 'Allahu Akbar' Drives Into Crowd https://t.co/pznvkur9cT                                                    \n",
       "4 Nan _â°Ð³Ñâ°Ð«Ñâ°Ð«Ñ (@ Akbar's in Leeds, West Yorkshire) https://t.co/9HbyQorVmO https://t.co/Gv6AXUSoiA          \n",
       "5 VIDEOS: Immigrant Somali Muslim Woman Yelling Allahu Akbar Intentionally Ran Over 40 People On... https://t.co/DYlGZKOFjw\n",
       "6 Was Trump right? Officers say pockets of Muslims celebrated 9/11 https://t.co/ZQLM9XYtKN via @MailOnline                 \n",
       "  Label  \n",
       "1 neutral\n",
       "2 neutral\n",
       "3 neutral\n",
       "4 neutral\n",
       "5 neutral\n",
       "6 neutral"
      ]
     },
     "metadata": {},
     "output_type": "display_data"
    }
   ],
   "source": [
    "pfit2 <- predict(multifit2, corpusmatrix[(nrow(df)+1):nrow(corpusmatrix),] , s=\"lambda.min\", type=\"class\")\n",
    "test$Label <- pfit2\n",
    "head(test)"
   ]
  },
  {
   "cell_type": "code",
   "execution_count": 21,
   "metadata": {
    "collapsed": false
   },
   "outputs": [
    {
     "data": {
      "text/html": [
       "<table>\n",
       "<thead><tr><th></th><th scope=col>id</th><th scope=col>tweet_text</th><th scope=col>Label</th></tr></thead>\n",
       "<tbody>\n",
       "\t<tr><th scope=row>162</th><td>842                                                                                      </td><td>@rwnc70 @JebBush LOL suck my motherfucking dick, faggot                                  </td><td>hate speech                                                                              </td></tr>\n",
       "\t<tr><th scope=row>165</th><td>872                                                                                      </td><td>@Alexcisneros69 Shut up you fucking faggot.                                              </td><td>hate speech                                                                              </td></tr>\n",
       "\t<tr><th scope=row>169</th><td>886                                                                                                                                                          </td><td><span style=white-space:pre-wrap>running with lfg faggots who think they know everything &amp;lt;&amp;lt;&amp;lt;&amp;lt;&amp;lt;&amp;lt;&amp;lt;     </span></td><td>hate speech                                                                                                                                                  </td></tr>\n",
       "\t<tr><th scope=row>170</th><td>902                                                                                      </td><td>Bunch of slack jawed faggots around here! https://t.co/wmqqqFCYL9 https://t.co/t0OdmYF9gH</td><td>hate speech                                                                              </td></tr>\n",
       "\t<tr><th scope=row>171</th><td>903                                                                                      </td><td>@kalumevs @CallumHarries I've seen you two bench so don't pipe up #Faggots               </td><td>hate speech                                                                              </td></tr>\n",
       "\t<tr><th scope=row>172</th><td>906                                                                                      </td><td>Faggots? https://t.co/ldAAHEC8gO                                                         </td><td>hate speech                                                                              </td></tr>\n",
       "</tbody>\n",
       "</table>\n"
      ],
      "text/latex": [
       "\\begin{tabular}{r|lll}\n",
       "  & id & tweet\\_text & Label\\\\\n",
       "\\hline\n",
       "\t162 & 842                                                                                       & @rwnc70 @JebBush LOL suck my motherfucking dick, faggot                                   & hate speech                                                                              \\\\\n",
       "\t165 & 872                                                                                       & @Alexcisneros69 Shut up you fucking faggot.                                               & hate speech                                                                              \\\\\n",
       "\t169 & 886                                                                                                     & running with lfg faggots who think they know everything \\&lt;\\&lt;\\&lt;\\&lt;\\&lt;\\&lt;\\&lt;      & hate speech                                                                                            \\\\\n",
       "\t170 & 902                                                                                       & Bunch of slack jawed faggots around here! https://t.co/wmqqqFCYL9 https://t.co/t0OdmYF9gH & hate speech                                                                              \\\\\n",
       "\t171 & 903                                                                                         & @kalumevs @CallumHarries I've seen you two bench so don't pipe up \\#Faggots                & hate speech                                                                                \\\\\n",
       "\t172 & 906                                                                                       & Faggots? https://t.co/ldAAHEC8gO                                                          & hate speech                                                                              \\\\\n",
       "\\end{tabular}\n"
      ],
      "text/plain": [
       "    id \n",
       "162 842\n",
       "165 872\n",
       "169 886\n",
       "170 902\n",
       "171 903\n",
       "172 906\n",
       "    tweet_text                                                                               \n",
       "162 @rwnc70 @JebBush LOL suck my motherfucking dick, faggot                                  \n",
       "165 @Alexcisneros69 Shut up you fucking faggot.                                              \n",
       "169 running with lfg faggots who think they know everything &lt;&lt;&lt;&lt;&lt;&lt;&lt;     \n",
       "170 Bunch of slack jawed faggots around here! https://t.co/wmqqqFCYL9 https://t.co/t0OdmYF9gH\n",
       "171 @kalumevs @CallumHarries I've seen you two bench so don't pipe up #Faggots               \n",
       "172 Faggots? https://t.co/ldAAHEC8gO                                                         \n",
       "    Label      \n",
       "162 hate speech\n",
       "165 hate speech\n",
       "169 hate speech\n",
       "170 hate speech\n",
       "171 hate speech\n",
       "172 hate speech"
      ]
     },
     "metadata": {},
     "output_type": "display_data"
    }
   ],
   "source": [
    "#get some samples of \"hate speech\"\n",
    "head(subset(test, Label==\"hate speech\",))"
   ]
  },
  {
   "cell_type": "code",
   "execution_count": 22,
   "metadata": {
    "collapsed": false
   },
   "outputs": [
    {
     "data": {
      "text/html": [
       "<table>\n",
       "<thead><tr><th></th><th scope=col>id</th><th scope=col>tweet_text</th><th scope=col>Label</th></tr></thead>\n",
       "<tbody>\n",
       "\t<tr><th scope=row>11</th><td> 42                                                                                                                                                                                                                        </td><td>Dem philly niggas b so great at that dressing them some fly niggas they make everything they put on look great _â€°Ð³Ñžâ€°Ð«_ÐµÐŒ_â€°Ð³Ñžâ€°Ð«_ÐµÐŒ_â€°Ð³Ñžâ€°Ð«_ÐµÐŒ_â€°Ð³Ñžâ€°Ð«_ÐµÐŒ_â€°Ð³Ñžâ€°Ð«_ÐµÐŒ_â€°Ð³Ñžâ€°Ð«_ÐµÐ</td><td>offensive language                                                                                                                                                                                                         </td></tr>\n",
       "\t<tr><th scope=row>40</th><td>182                                                                                                                                                                                                                        </td><td>The same thing applies to these niggas too. How you gone get mad a bitch posted a picture of yo tiny ashy ass dick?                                                                                                        </td><td>offensive language                                                                                                                                                                                                         </td></tr>\n",
       "\t<tr><th scope=row>42</th><td>188                                                                                                                                                                                                                        </td><td>When you fuck darkskin girls in the winter time they ass cheeks Be ashy as hell _â€°Ð³Ñžâ€°Ð«_Ðœ__â€°Ð³Ñžâ€°Ð«_Ðœ__â€°Ð³Ñžâ€°Ð«_Ðœ_                                                                                        </td><td>offensive language                                                                                                                                                                                                         </td></tr>\n",
       "\t<tr><th scope=row>45</th><td>208                                                                                                                                                                                                                        </td><td>@EgyptTaughtMe @srslyab that's not even your skin tone and that's not even your body you ashy bitch https://t.co/TwBW9O9wvx                                                                                                </td><td>offensive language                                                                                                                                                                                                         </td></tr>\n",
       "\t<tr><th scope=row>47</th><td>226                                                                                                                                                                                                                        </td><td>Nothing says \"IÐƒÐšâ€°Ð«Ð£ÐœÑ†m a fat bastard\" like wearing a T-shirt in a swimming pool.                                                                                                                                  </td><td>offensive language                                                                                                                                                                                                         </td></tr>\n",
       "\t<tr><th scope=row>50</th><td>246                                                                                                                                                                                                                        </td><td>That monochrome camera is brand new and costs about six grand. Bastard.                                                                                                                                                    </td><td>offensive language                                                                                                                                                                                                         </td></tr>\n",
       "</tbody>\n",
       "</table>\n"
      ],
      "text/latex": [
       "\\begin{tabular}{r|lll}\n",
       "  & id & tweet\\_text & Label\\\\\n",
       "\\hline\n",
       "\t11 &  42                                                                                                                                                                                                                                                 & Dem philly niggas b so great at that dressing them some fly niggas they make everything they put on look great \\_â€°Ð³Ñžâ€°Ð«\\_ÐµÐŒ\\_â€°Ð³Ñžâ€°Ð«\\_ÐµÐŒ\\_â€°Ð³Ñžâ€°Ð«\\_ÐµÐŒ\\_â€°Ð³Ñžâ€°Ð«\\_ÐµÐŒ\\_â€°Ð³Ñžâ€°Ð«\\_ÐµÐŒ\\_â€°Ð³Ñžâ€°Ð«\\_ÐµÐ & offensive language                                                                                                                                                                                                                                 \\\\\n",
       "\t40 & 182                                                                                                                                                                                                                         & The same thing applies to these niggas too. How you gone get mad a bitch posted a picture of yo tiny ashy ass dick?                                                                                                         & offensive language                                                                                                                                                                                                         \\\\\n",
       "\t42 & 188                                                                                                                                                                                                                                           & When you fuck darkskin girls in the winter time they ass cheeks Be ashy as hell \\_â€°Ð³Ñžâ€°Ð«\\_Ðœ\\_\\_â€°Ð³Ñžâ€°Ð«\\_Ðœ\\_\\_â€°Ð³Ñžâ€°Ð«\\_Ðœ\\_                                                                                         & offensive language                                                                                                                                                                                                                           \\\\\n",
       "\t45 & 208                                                                                                                                                                                                                         & @EgyptTaughtMe @srslyab that's not even your skin tone and that's not even your body you ashy bitch https://t.co/TwBW9O9wvx                                                                                                 & offensive language                                                                                                                                                                                                         \\\\\n",
       "\t47 & 226                                                                                                                                                                                                                         & Nothing says \"IÐƒÐšâ€°Ð«Ð£ÐœÑ†m a fat bastard\" like wearing a T-shirt in a swimming pool.                                                                                                                                   & offensive language                                                                                                                                                                                                         \\\\\n",
       "\t50 & 246                                                                                                                                                                                                                         & That monochrome camera is brand new and costs about six grand. Bastard.                                                                                                                                                     & offensive language                                                                                                                                                                                                         \\\\\n",
       "\\end{tabular}\n"
      ],
      "text/plain": [
       "   id \n",
       "11  42\n",
       "40 182\n",
       "42 188\n",
       "45 208\n",
       "47 226\n",
       "50 246\n",
       "   tweet_text                                                                                                                                                                                                                 \n",
       "11 Dem philly niggas b so great at that dressing them some fly niggas they make everything they put on look great _â°Ð³Ñâ°Ð«_ÐµÐ_â°Ð³Ñâ°Ð«_ÐµÐ_â°Ð³Ñâ°Ð«_ÐµÐ_â°Ð³Ñâ°Ð«_ÐµÐ_â°Ð³Ñâ°Ð«_ÐµÐ_â°Ð³Ñâ°Ð«_ÐµÐ\n",
       "40 The same thing applies to these niggas too. How you gone get mad a bitch posted a picture of yo tiny ashy ass dick?                                                                                                        \n",
       "42 When you fuck darkskin girls in the winter time they ass cheeks Be ashy as hell _â°Ð³Ñâ°Ð«_Ð__â°Ð³Ñâ°Ð«_Ð__â°Ð³Ñâ°Ð«_Ð_                                                                                        \n",
       "45 @EgyptTaughtMe @srslyab that's not even your skin tone and that's not even your body you ashy bitch https://t.co/TwBW9O9wvx                                                                                                \n",
       "47 Nothing says \"IÐÐâ°Ð«Ð£ÐÑm a fat bastard\" like wearing a T-shirt in a swimming pool.                                                                                                                                  \n",
       "50 That monochrome camera is brand new and costs about six grand. Bastard.                                                                                                                                                    \n",
       "   Label             \n",
       "11 offensive language\n",
       "40 offensive language\n",
       "42 offensive language\n",
       "45 offensive language\n",
       "47 offensive language\n",
       "50 offensive language"
      ]
     },
     "metadata": {},
     "output_type": "display_data"
    }
   ],
   "source": [
    "#get some samples of \"offensive language\"\n",
    "head(subset(test, Label==\"offensive language\",))"
   ]
  },
  {
   "cell_type": "markdown",
   "metadata": {},
   "source": [
    "*last edit 25/10/2016*"
   ]
  }
 ],
 "metadata": {
  "kernelspec": {
   "display_name": "R",
   "language": "R",
   "name": "ir"
  },
  "language_info": {
   "codemirror_mode": "r",
   "file_extension": ".r",
   "mimetype": "text/x-r-source",
   "name": "R",
   "pygments_lexer": "r",
   "version": "3.3.1"
  }
 },
 "nbformat": 4,
 "nbformat_minor": 1
}
